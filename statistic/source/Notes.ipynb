{
 "cells": [
  {
   "cell_type": "markdown",
   "metadata": {},
   "source": [
    "# Statistic Notes"
   ]
  },
  {
   "cell_type": "markdown",
   "metadata": {
    "heading_collapsed": true
   },
   "source": [
    "##  Intro"
   ]
  },
  {
   "cell_type": "markdown",
   "metadata": {
    "hidden": true
   },
   "source": [
    "- So much so that statisticians refer to machine learning as applied statistics or statistical learning rather than the computer-science-centric name. Machine learning is almost universally presented to beginners assuming that the reader has some background in statistics.\n",
    "- Statistics is a subfield of mathematics. It refers to a collection of methods for working with data and using data to answer questions.\n",
    "- Although a working knowledge of statistics does not require deep theoretical knowledge, some important and easy-to-digest theorems from the relationship between statistics and probability can provide a valuable foundation.\n",
    "- Descriptive statistics for summarizing data and inferential statistics for drawing conclusions from samples of data.\n",
    "\n",
    "- Descriptive statistics may also cover graphical methods that can be used to visualize samples of data.\n",
    "\n",
    "- We think of inferential statistics as the estimation of quantities from the population distribution, such as the expected value or the amount of spread."
   ]
  },
  {
   "cell_type": "markdown",
   "metadata": {
    "heading_collapsed": true
   },
   "source": [
    "## Statistics vs ML"
   ]
  },
  {
   "cell_type": "markdown",
   "metadata": {
    "hidden": true
   },
   "source": [
    "- The field of machine learning is concerned with the question of how to construct computer programs that automatically improve with experience.\n",
    "\n",
    "- Linear regression is a perfect example. It is a more-than-a-century-old method from the (at the time: nascent) field of statistics that is used for fitting a line or plane to real-valued data. From a machine learning perspective, we look at it as a system for learning weights (coefficients) in response to examples from a domain.\n",
    "- A good example is classification and regression trees that bears no resemblance to classical methods in statistics.\n",
    "\n",
    "- The term predictive modeling may stir associations such as machine learning, pattern recognition, and data mining. Indeed, these associations are appropriate and themethods implied by these terms are an integral piece of the predictive modelin gprocess. But predictive modeling encompasses much more than the tools and techniques for uncovering patterns within data. The practice of predictive modeling defines the process of developing a model in a way that we can understand and quantify the model’s prediction accuracy on future, yet-to-be-seen data.\n",
    "\n",
    "- This highlights the deeper need for the machine learning practitioner to focus on predictive modeling and stay open to methods, ideas, and terminology, regardless of the field of origin. This may apply to modern fields like bioinformatics and econometrics but applies more so to the tightly related and much older field of statistics.\n",
    "\n",
    "- Machine learning and predictive modeling are a computer science perspective on modeling data with a focus on algorithmic methods and model skill.\n",
    "\n",
    "- Statistics and statistical learning are a mathematical perspective on modeling data with a focus on data models and on goodness of fit."
   ]
  },
  {
   "cell_type": "markdown",
   "metadata": {
    "hidden": true
   },
   "source": [
    "- http://cs229.stanford.edu/\n",
    "\n",
    "- http://statweb.stanford.edu/~tibs/stat315a/\n",
    "\n",
    "- http://statweb.stanford.edu/~tibs/stat315a/CS229vsStat315a\n",
    "\n",
    "- https://stats.stackexchange.com/questions/6/the-two-cultures-statistics-vs-machine-learning\n",
    "\n",
    "- http://brenocon.com/blog/2008/12/statistics-vs-machine-learning-fight/\n",
    "\n",
    "- http://statweb.stanford.edu/~tibs/stat315a/glossary.pdf"
   ]
  },
  {
   "cell_type": "markdown",
   "metadata": {
    "heading_collapsed": true
   },
   "source": [
    "## Examples of Stats and ML"
   ]
  },
  {
   "cell_type": "markdown",
   "metadata": {
    "hidden": true
   },
   "source": [
    "- Problem Framing\n",
    "    - Exploratory Data Analysis\n",
    "    - Data Mining \n",
    "- Data Understanding\n",
    "    - Summary Statistics.\n",
    "    - Data Visualizations \n",
    "- Data Cleaning\n",
    "    - Outlier detection\n",
    "    - Imputation\n",
    "- Data Selection\n",
    "    - Data Sample.\n",
    "    - Feature Selection\n",
    "- Data Preparation\n",
    "    - Scaling\n",
    "    - Encoding\n",
    "    - Transforms\n",
    "    \n",
    "- Model Evaluation\n",
    "    - Experimental Design\n",
    "    - Resampling Methods\n",
    "- Model Configuration\n",
    "    - Statistical Hypothesis Tests\n",
    "    - Estimation Statistics\n",
    "- Model Selection\n",
    "    - Statistical Hypothesis Tests\n",
    "    - Estimation Statistics\n",
    "- Model Presentaion \n",
    "    - Estimation Statistics\n",
    "- Model Predictions\n",
    "    - Estimation Statistics\n",
    "    \n",
    "- Exploratory data analysis, data summarization, and data visualizations can be used to help frame your predictive modeling problem and better understand the data.\n",
    "\n",
    "- That statistical methods can be used to clean and prepare data ready for modeling.\n",
    "\n",
    "- That statistical hypothesis tests and estimation statistics can aid in model selection and in presenting the skill and predictions from final models"
   ]
  },
  {
   "cell_type": "markdown",
   "metadata": {
    "heading_collapsed": true
   },
   "source": [
    "## Gaussian and Summary Stats"
   ]
  },
  {
   "cell_type": "markdown",
   "metadata": {
    "hidden": true
   },
   "source": [
    "- Gaussian Distribution is known as the normal distribution, because it the distribution that a lot of data falls into.Some examples of observations that have a Gaussian distribution include:\n",
    "    - People’s heights.\n",
    "    - IQ scores.\n",
    "    - Body temperature."
   ]
  },
  {
   "cell_type": "code",
   "execution_count": 8,
   "metadata": {
    "hidden": true
   },
   "outputs": [],
   "source": [
    "import numpy as np\n",
    "import matplotlib.pyplot as plt \n",
    "from scipy.stats import norm,uniform"
   ]
  },
  {
   "cell_type": "code",
   "execution_count": 9,
   "metadata": {
    "hidden": true
   },
   "outputs": [
    {
     "data": {
      "image/png": "[encoded data removed]",
      "text/plain": [
       "<Figure size 432x288 with 1 Axes>"
      ]
     },
     "metadata": {
      "needs_background": "light"
     },
     "output_type": "display_data"
    }
   ],
   "source": [
    "x_axis=np.arange(-3,3,0.1)\n",
    "y_axis=norm.pdf(x_axis,0,1)\n",
    "\n",
    "plt.plot(x_axis,y_axis)\n",
    "plt.title(\"Probability Density Function\")\n",
    "plt.show()"
   ]
  },
  {
   "cell_type": "markdown",
   "metadata": {
    "hidden": true
   },
   "source": [
    "- Much of the data we work with in machine learning often fits a Gaussian distribution.\n",
    "- Not all data is Gaussian like Sales of books or Population of cities, and it is sometimes important to make this discovery either by reviewing histogram plots of the data or using statistical tests to check."
   ]
  },
  {
   "cell_type": "markdown",
   "metadata": {
    "hidden": true
   },
   "source": [
    "### Samples vs Population\n",
    "\n",
    "- it is an important distinction because different statistical methods are used on samples vs populations, and in applied machine learning, we are often working with samples of data. If you read or use the word population when talking about data in machine learning, it very likely means sample when it comes to statistical methods.\n",
    "\n",
    "- We are working with samples and making claims about a population, it means that there is always some uncertainty, and it is important to understand and report this uncertainty."
   ]
  },
  {
   "cell_type": "markdown",
   "metadata": {
    "hidden": true
   },
   "source": [
    "- - Sometimes, the data will not be a perfect Gaussian, but it will have a Gaussian-like distribution. It is almost Gaussian and maybe it would be more Gaussian if it was plotted in a different way, scaled in some way, or if more data was gathered. Often, when working with Gaussian-like data, we can treat it as Gaussian and use all of the same statistical tools and get reliable results."
   ]
  },
  {
   "cell_type": "code",
   "execution_count": 28,
   "metadata": {
    "hidden": true
   },
   "outputs": [
    {
     "data": {
      "image/png": "[encoded data removed]",
      "text/plain": [
       "<Figure size 432x288 with 1 Axes>"
      ]
     },
     "metadata": {
      "needs_background": "light"
     },
     "output_type": "display_data"
    }
   ],
   "source": [
    "# generate a sample of random gaussians\n",
    "import numpy as np\n",
    "import matplotlib.pyplot as plt \n",
    "\n",
    "# seed the random number generator\n",
    "np.random.seed(1)\n",
    "# generate univariate observations\n",
    "data = np.random.randn(10000)+50\n",
    "# histogram of generated data\n",
    "plt.hist(data,bins=100)\n",
    "plt.show()"
   ]
  },
  {
   "cell_type": "markdown",
   "metadata": {
    "hidden": true
   },
   "source": [
    "- That we should always expect some noise or limitation in our data sample. The data sample will always contain errors compared to the pure underlying distribution."
   ]
  },
  {
   "cell_type": "markdown",
   "metadata": {
    "hidden": true
   },
   "source": [
    "- The central tendency of a distribution refers to the middle or typical value in the distribution. The most common or most likely value.\n",
    "- The mean is easily influenced by outlier values, that is, rare values far from the mean. These may be legitimately rare observations on the edge of the distribution or errors.\n",
    "- In the case of outliers or a non-Gaussian distribution, an alternate and commonly used central tendency to calculate is the median."
   ]
  },
  {
   "cell_type": "code",
   "execution_count": 29,
   "metadata": {
    "hidden": true
   },
   "outputs": [
    {
     "name": "stdout",
     "output_type": "stream",
     "text": [
      "mean of data : 50.009772656699106\n",
      "median of data : 50.00845405409676\n"
     ]
    }
   ],
   "source": [
    "print(\"mean of data :\",np.mean(data))\n",
    "print(\"median of data :\",np.median(data))"
   ]
  },
  {
   "cell_type": "markdown",
   "metadata": {
    "hidden": true
   },
   "source": [
    "- **The variance** of a distribution refers to how much on average that observations vary or differ from the mean value\n"
   ]
  },
  {
   "cell_type": "code",
   "execution_count": 52,
   "metadata": {
    "hidden": true
   },
   "outputs": [
    {
     "data": {
      "image/png": "[encoded data removed]",
      "text/plain": [
       "<Figure size 432x288 with 1 Axes>"
      ]
     },
     "metadata": {
      "needs_background": "light"
     },
     "output_type": "display_data"
    }
   ],
   "source": [
    "x_axis=np.arange(-3,3,0.1)\n",
    "\n",
    "# scale = 1\n",
    "plt.plot(x_axis,norm.pdf(x_axis,0,1),label=\"1\")\n",
    "\n",
    "# scale = 0.5\n",
    "plt.plot(x_axis,norm.pdf(x_axis,0,0.5),label=\"0.5\")\n",
    "\n",
    "plt.legend()\n",
    "plt.show()"
   ]
  },
  {
   "cell_type": "code",
   "execution_count": 53,
   "metadata": {
    "hidden": true
   },
   "outputs": [
    {
     "name": "stdout",
     "output_type": "stream",
     "text": [
      "variance :  0.01938796238130404\n"
     ]
    }
   ],
   "source": [
    "print(\"variance : \",np.var(norm.pdf(x_axis,0,1)))"
   ]
  },
  {
   "cell_type": "code",
   "execution_count": 55,
   "metadata": {
    "hidden": true
   },
   "outputs": [
    {
     "name": "stdout",
     "output_type": "stream",
     "text": [
      "std : 0.13924066353369635\n"
     ]
    }
   ],
   "source": [
    "print(\"std :\",np.std(norm.pdf(x_axis,0,1)))"
   ]
  },
  {
   "cell_type": "code",
   "execution_count": 61,
   "metadata": {
    "hidden": true
   },
   "outputs": [
    {
     "data": {
      "image/png": "[encoded data removed]",
      "text/plain": [
       "<Figure size 432x288 with 1 Axes>"
      ]
     },
     "metadata": {
      "needs_background": "light"
     },
     "output_type": "display_data"
    }
   ],
   "source": [
    "data=randn(1000)\n",
    "plt.hist(data,bins=50);"
   ]
  },
  {
   "cell_type": "code",
   "execution_count": 63,
   "metadata": {
    "hidden": true
   },
   "outputs": [
    {
     "name": "stdout",
     "output_type": "stream",
     "text": [
      "0.9843192202129248\n",
      "0.9921286308805551\n"
     ]
    }
   ],
   "source": [
    "print(np.var(data))\n",
    "print(np.std(data))"
   ]
  },
  {
   "cell_type": "code",
   "execution_count": 66,
   "metadata": {
    "hidden": true
   },
   "outputs": [
    {
     "data": {
      "text/plain": [
       "array([4096,    4])"
      ]
     },
     "execution_count": 66,
     "metadata": {},
     "output_type": "execute_result"
    }
   ],
   "source": [
    "np.power(2,[12,2])"
   ]
  },
  {
   "cell_type": "code",
   "execution_count": 70,
   "metadata": {
    "hidden": true
   },
   "outputs": [
    {
     "data": {
      "text/plain": [
       "0.9843192202129248"
      ]
     },
     "execution_count": 70,
     "metadata": {},
     "output_type": "execute_result"
    }
   ],
   "source": [
    "variance_of_data=(np.sum((data-np.mean(data))**2))/len(data)\n",
    "variance_of_data"
   ]
  },
  {
   "cell_type": "markdown",
   "metadata": {
    "hidden": true
   },
   "source": [
    "- In applied machine learning, you will often need to report the results of an algorithm. That is, report the estimated skill of the model on out-of-sample data. This is often done by reporting the mean performance from a k-fold cross-validation, or some other repeated sampling procedure. When reporting model skill, you are in effect summarizing the distribution of skill scores, and very likely the skill scores will be drawn from a Gaussian distribution. It is common to only report the mean performance of the model. This would hide two other important details of the distribution of the skill of the model. As a minimum I would recommend reporting the two parameters of the Gaussian distribution of model scores and the size of the sample. Ideally, it would also be a good idea to confirm that indeed the model skill scores are Gaussian or look Gaussian enough to defend reporting the parameters of the Gaussian distribution. This is important because the distribution of skill scores can be reconstructed by readers and potentially compared to the skill of models on the same problem in the future."
   ]
  },
  {
   "cell_type": "markdown",
   "metadata": {
    "heading_collapsed": true
   },
   "source": [
    "## Visualization"
   ]
  },
  {
   "cell_type": "markdown",
   "metadata": {
    "hidden": true
   },
   "source": [
    "- Boxplots are useful to summarize the distribution of a data sample as an alternative to the histogram. They can help to quickly get an idea of the range of common and sensible values in the box and in the whisker respectively. Because we are not looking at the shape of the distribution explicitly, this method is often used when the data has an unknown or unusual distribution, such as non-Gaussian.\n",
    "- A box and whisker plot—also called a box plot—displays the five-number summary of a set of data. The five-number summary is the minimum, first quartile, median, third quartile, and maximum."
   ]
  },
  {
   "cell_type": "code",
   "execution_count": 73,
   "metadata": {
    "hidden": true
   },
   "outputs": [
    {
     "data": {
      "image/png": "[encoded data removed]",
      "text/plain": [
       "<Figure size 432x288 with 1 Axes>"
      ]
     },
     "metadata": {},
     "output_type": "display_data"
    }
   ],
   "source": [
    "from numpy.random import seed\n",
    "from numpy.random import randn\n",
    "from matplotlib import pyplot\n",
    "import seaborn as sns\n",
    "sns.set()\n",
    "# seed the random number generator\n",
    "seed(1)\n",
    "# random numbers drawn from a Gaussian distribution\n",
    "x = [randn(1000), 5 * randn(1000), 10 * randn(1000)]\n",
    "# create box and whisker plot\n",
    "pyplot.boxplot(x)\n",
    "# show line plot\n",
    "pyplot.show()"
   ]
  },
  {
   "cell_type": "markdown",
   "metadata": {
    "heading_collapsed": true
   },
   "source": [
    "## Law of Large Numbers"
   ]
  },
  {
   "cell_type": "markdown",
   "metadata": {
    "hidden": true
   },
   "source": [
    "- The law of large numbers is a theorem from probability and statistics that suggests that the average result from repeating an experiment multiple times will better approximate the true or expected underlying result.\n",
    "- The law of large numbers explains why casinos always make money in the long run.\n",
    "- The law of large numbers says that the mean of a large sample is close to the mean of the distribution.\n",
    "-  Independent and Identically Distributed means that the trial is run in an identical manner and does not depend on the results of any other trial."
   ]
  },
  {
   "cell_type": "code",
   "execution_count": 74,
   "metadata": {
    "hidden": true
   },
   "outputs": [],
   "source": [
    "import numpy as np\n",
    "import matplotlib.pyplot as plt "
   ]
  },
  {
   "cell_type": "code",
   "execution_count": 77,
   "metadata": {
    "hidden": true
   },
   "outputs": [],
   "source": [
    "data=5+np.random.randn(10000)"
   ]
  },
  {
   "cell_type": "code",
   "execution_count": 80,
   "metadata": {
    "hidden": true
   },
   "outputs": [
    {
     "name": "stdout",
     "output_type": "stream",
     "text": [
      "5.000759825609255\n",
      "1.0070880884082167\n"
     ]
    }
   ],
   "source": [
    "print(data.mean())\n",
    "print(data.var())"
   ]
  },
  {
   "cell_type": "code",
   "execution_count": 106,
   "metadata": {
    "hidden": true
   },
   "outputs": [
    {
     "name": "stdout",
     "output_type": "stream",
     "text": [
      "Size 9 mean of samples 5.037457520742679\n",
      "Size 99 mean of samples 4.985955379211145\n",
      "Size 999 mean of samples 4.994630720623571\n"
     ]
    }
   ],
   "source": [
    "size=50\n",
    "\n",
    "for s in [10,100,1000]:\n",
    "    m_l=[]\n",
    "    for i in range(s):\n",
    "        b_s1=np.random.choice(data,size,replace=False)\n",
    "        m_l.append(b_s1.mean())\n",
    "    \n",
    "    print(\"Size {}\".format(i),\"mean of samples {}\".format(np.mean(m_l)))"
   ]
  },
  {
   "cell_type": "markdown",
   "metadata": {
    "heading_collapsed": true
   },
   "source": [
    "## Central Limit Theorem"
   ]
  },
  {
   "cell_type": "markdown",
   "metadata": {
    "hidden": true
   },
   "source": [
    "- It is often confused with the law of large numbers.\n",
    "\n",
    "- It has important implications about how and why we can make inferences about the skill of machine learning models, such as whether one model is statistically better than another and confidence intervals on models skill.\n",
    "\n",
    "- If we calculate the mean of a sample, it will be an estimate of the mean of the population distribution. But, like any estimate, it will be wrong and will contain some error. If we draw multiple independent samples, and calculate their means, the distribution of those means will form a Gaussian distribution.\n",
    "\n",
    "- The central limit theorem is impressive, especially as this will occur no matter the shape of the population distribution from which we are drawing samples. It demonstrates that the distribution of errors from estimating the population mean fit a distribution that the field of statistics knows a lot about.\n",
    "\n",
    "- Estimate of the Gaussian distribution will be more accurate as the size of the samples drawn from the population is increased. This means that if we use our knowledge of the Gaussian distribution in general to start making inferences about the means of samples drawn from a population, that these inferences will become more useful as we increase our sample size.\n",
    "\n",
    "- The law of large numbers is intuitive. It is why we think that collecting more data will lead to a more representative sample of observations from the domain. The theorem supports this intuition. The central limit theorem is not intuitive. Instead, it is a finding that we can exploit in order to make claims about sample means."
   ]
  },
  {
   "cell_type": "code",
   "execution_count": 31,
   "metadata": {
    "hidden": true
   },
   "outputs": [],
   "source": [
    "import numpy as np\n",
    "import matplotlib.pyplot as plt \n",
    "\n",
    "size=20\n",
    "np.random.seed(1)\n",
    "\n",
    "means=[ np.mean(np.random.randint(1,7,size)) for i in range(1000)]"
   ]
  },
  {
   "cell_type": "code",
   "execution_count": 32,
   "metadata": {
    "hidden": true
   },
   "outputs": [
    {
     "data": {
      "image/png": "[encoded data removed]",
      "text/plain": [
       "<Figure size 432x288 with 1 Axes>"
      ]
     },
     "metadata": {
      "needs_background": "light"
     },
     "output_type": "display_data"
    }
   ],
   "source": [
    "plt.hist(means,bins=20);"
   ]
  },
  {
   "cell_type": "markdown",
   "metadata": {
    "hidden": true
   },
   "source": [
    "- The central limit theorem has important implications in applied machine learning. The theorem does inform the solution to linear algorithms such as linear regression, but not exotic methods like artificial neural networks that are solved using numerical optimization methods."
   ]
  },
  {
   "cell_type": "markdown",
   "metadata": {},
   "source": [
    "## Statistical Hypothesis Testing"
   ]
  },
  {
   "cell_type": "markdown",
   "metadata": {},
   "source": [
    "- A hypothesis test calculates some quantity under a given assumption. The result of the test allows us to interpret whether the assumption holds or whether the assumption has been violated.\n",
    "- The assumption of a statistical test is called the null hypothesis, or hypothesis zero (H0 for short). It is often called the default assumption, or the assumption that nothing has changed.\n",
    "- A violation of the test’s assumption is often called the first hypothesis, hypothesis one or H1 for short. H1 is really a short hand for some other hypothesis, as all we know is that the evidence suggests that the H0 can be rejected."
   ]
  },
  {
   "cell_type": "code",
   "execution_count": null,
   "metadata": {},
   "outputs": [],
   "source": []
  }
 ],
 "metadata": {
  "kernelspec": {
   "display_name": "Python 3",
   "language": "python",
   "name": "python3"
  },
  "language_info": {
   "codemirror_mode": {
    "name": "ipython",
    "version": 3
   },
   "file_extension": ".py",
   "mimetype": "text/x-python",
   "name": "python",
   "nbconvert_exporter": "python",
   "pygments_lexer": "ipython3",
   "version": "3.6.7"
  }
 },
 "nbformat": 4,
 "nbformat_minor": 2
}
