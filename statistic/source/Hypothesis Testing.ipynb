{
 "cells": [
  {
   "cell_type": "markdown",
   "metadata": {},
   "source": [
    "**The goal of classical hypothesis** testing is to answer the question, “Given a sample and\n",
    "an apparent effect, what is the probability of seeing such an effect by chance?”\n",
    "\n",
    "- The first step is to quantify the size of the apparent effect by choosing a test statis‐\n",
    "tic. \n",
    "- The second step is to define a null hypothesis, which is a model of the system based\n",
    "on the assumption that the apparent effect is not real.\n",
    "- The third step is to compute a p-value, which is the probability of seeing the ap‐\n",
    "parent effect if the null hypothesis is true. \n",
    "- The last step is to interpret the result. If the p-value is low, the effect is said to be\n",
    "statistically significant, which means that it is unlikely to have occurred by chance."
   ]
  },
  {
   "cell_type": "code",
   "execution_count": 2,
   "metadata": {},
   "outputs": [],
   "source": [
    "import numpy  as np\n",
    "import random\n",
    "\n",
    "import thinkplot\n",
    "import thinkstats2"
   ]
  },
  {
   "cell_type": "code",
   "execution_count": 8,
   "metadata": {},
   "outputs": [],
   "source": [
    "thinkstats2.HypothesisTest??"
   ]
  },
  {
   "cell_type": "code",
   "execution_count": null,
   "metadata": {},
   "outputs": [],
   "source": [
    "class Hypothesis(object):\n",
    "    \n",
    "    def __init__(self,data):\n",
    "        self.data=data\n",
    "        self.MakeModel()\n",
    "        self.actual=self.TestStatistic(data)\n",
    "        \n",
    "    def PValue(self,iters=1000):\n",
    "        self.test_stats=[self.Test]"
   ]
  }
 ],
 "metadata": {
  "kernelspec": {
   "display_name": "Python 3",
   "language": "python",
   "name": "python3"
  },
  "language_info": {
   "codemirror_mode": {
    "name": "ipython",
    "version": 3
   },
   "file_extension": ".py",
   "mimetype": "text/x-python",
   "name": "python",
   "nbconvert_exporter": "python",
   "pygments_lexer": "ipython3",
   "version": "3.6.8"
  }
 },
 "nbformat": 4,
 "nbformat_minor": 2
}
