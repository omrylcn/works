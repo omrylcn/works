{
 "cells": [
  {
   "cell_type": "markdown",
   "metadata": {},
   "source": [
    "### Glossary"
   ]
  },
  {
   "cell_type": "markdown",
   "metadata": {},
   "source": [
    "- class: A programmer-defined type. A class definition creates a new class object.\n",
    "- class object: An object that contains information about a programmer-defined type. The class object can be used to create instances of the type.\n",
    "- instance: An object that belongs to a class.\n",
    "- instantiate: To create a new object.\n",
    "- attribute: One of the named values associated with an object.\n",
    "- embedded object: An object that is stored as an attribute of another object.\n",
    "- shallow copy: To copy the contents of an object, including any references to embedded objects; implemented by the copy function in the copy module.\n",
    "- deep copy: To copy the contents of an object as well as any embedded objects, and any objects embedded in them, and so on; implemented by the deepcopy function in the copy module.\n"
   ]
  },
  {
   "cell_type": "code",
   "execution_count": null,
   "metadata": {},
   "outputs": [],
   "source": []
  },
  {
   "cell_type": "code",
   "execution_count": null,
   "metadata": {},
   "outputs": [],
   "source": []
  }
 ],
 "metadata": {
  "kernelspec": {
   "display_name": "Python 3",
   "language": "python",
   "name": "python3"
  },
  "language_info": {
   "codemirror_mode": {
    "name": "ipython",
    "version": 3
   },
   "file_extension": ".py",
   "mimetype": "text/x-python",
   "name": "python",
   "nbconvert_exporter": "python",
   "pygments_lexer": "ipython3",
   "version": "3.8.0"
  }
 },
 "nbformat": 4,
 "nbformat_minor": 4
}
